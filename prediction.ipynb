{
 "cells": [
  {
   "cell_type": "code",
   "execution_count": 90,
   "metadata": {},
   "outputs": [],
   "source": [
    "# Bloque de importación\n",
    "import numpy as np\n",
    "import pandas as pd\n",
    "import matplotlib.pyplot as plt\n",
    "import seaborn as sns\n",
    "import tensorflow as tf\n",
    "\n",
    "from sklearn.feature_selection import RFE\n",
    "from sklearn.linear_model import LinearRegression\n",
    "from sklearn.metrics import accuracy_score\n",
    "from sklearn import preprocessing as pp\n",
    "from sklearn.model_selection import train_test_split"
   ]
  },
  {
   "cell_type": "code",
   "execution_count": 91,
   "metadata": {},
   "outputs": [],
   "source": [
    "# Lectura del dataset\n",
    "df = pd.read_csv('data.csv')"
   ]
  },
  {
   "cell_type": "code",
   "execution_count": 92,
   "metadata": {},
   "outputs": [
    {
     "data": {
      "text/plain": [
       "work_year             0\n",
       "experience_level      0\n",
       "employment_type       0\n",
       "job_title             0\n",
       "salary                0\n",
       "salary_currency       0\n",
       "salary_in_usd         0\n",
       "employee_residence    0\n",
       "remote_ratio          0\n",
       "company_location      0\n",
       "company_size          0\n",
       "dtype: int64"
      ]
     },
     "execution_count": 92,
     "metadata": {},
     "output_type": "execute_result"
    }
   ],
   "source": [
    "# Revisar si el dataset tiene datos \"null\" y dropear filas duplicadas\n",
    "df.drop_duplicates(inplace = True)\n",
    "df.isnull().sum()"
   ]
  },
  {
   "cell_type": "code",
   "execution_count": 93,
   "metadata": {},
   "outputs": [
    {
     "name": "stdout",
     "output_type": "stream",
     "text": [
      "<class 'pandas.core.frame.DataFrame'>\n",
      "Int64Index: 2584 entries, 0 to 3754\n",
      "Data columns (total 11 columns):\n",
      " #   Column              Non-Null Count  Dtype \n",
      "---  ------              --------------  ----- \n",
      " 0   work_year           2584 non-null   int64 \n",
      " 1   experience_level    2584 non-null   object\n",
      " 2   employment_type     2584 non-null   object\n",
      " 3   job_title           2584 non-null   object\n",
      " 4   salary              2584 non-null   int64 \n",
      " 5   salary_currency     2584 non-null   object\n",
      " 6   salary_in_usd       2584 non-null   int64 \n",
      " 7   employee_residence  2584 non-null   object\n",
      " 8   remote_ratio        2584 non-null   int64 \n",
      " 9   company_location    2584 non-null   object\n",
      " 10  company_size        2584 non-null   object\n",
      "dtypes: int64(4), object(7)\n",
      "memory usage: 242.2+ KB\n"
     ]
    }
   ],
   "source": [
    "# Se saca la info de las variables para ajustarlas en caso de ser necesario\n",
    "df.info()"
   ]
  },
  {
   "cell_type": "code",
   "execution_count": 94,
   "metadata": {},
   "outputs": [
    {
     "data": {
      "text/plain": [
       "SE    1554\n",
       "MI     664\n",
       "EN     270\n",
       "EX      96\n",
       "Name: experience_level, dtype: int64"
      ]
     },
     "execution_count": 94,
     "metadata": {},
     "output_type": "execute_result"
    }
   ],
   "source": [
    "# Se revisan todas las variables categóricas para mappear los datos para ser usados por el modelo ML\n",
    "# Diccionario de datos: SE = Senior,  MI = Mid level,  EN = Entry level,  EX = Executive level\n",
    "df['experience_level'].value_counts()\n",
    "# Se observan 3 datos de acá"
   ]
  },
  {
   "cell_type": "code",
   "execution_count": 95,
   "metadata": {},
   "outputs": [
    {
     "data": {
      "text/plain": [
       "FT    2547\n",
       "PT      17\n",
       "CT      10\n",
       "FL      10\n",
       "Name: employment_type, dtype: int64"
      ]
     },
     "execution_count": 95,
     "metadata": {},
     "output_type": "execute_result"
    }
   ],
   "source": [
    "# Diccionario de datos: FT = Full Time,  PT = Part Time,   CT = Contractual,   FL = Freelance\n",
    "df['employment_type'].value_counts()"
   ]
  },
  {
   "cell_type": "code",
   "execution_count": 96,
   "metadata": {},
   "outputs": [
    {
     "data": {
      "text/plain": [
       "Data Engineer                598\n",
       "Data Scientist               538\n",
       "Data Analyst                 396\n",
       "Machine Learning Engineer    206\n",
       "Analytics Engineer            91\n",
       "                            ... \n",
       "Compliance Data Analyst        1\n",
       "Deep Learning Researcher       1\n",
       "Staff Data Analyst             1\n",
       "Data DevOps Engineer           1\n",
       "Finance Data Analyst           1\n",
       "Name: job_title, Length: 93, dtype: int64"
      ]
     },
     "execution_count": 96,
     "metadata": {},
     "output_type": "execute_result"
    }
   ],
   "source": [
    "df['job_title'].value_counts()"
   ]
  },
  {
   "cell_type": "code",
   "execution_count": 97,
   "metadata": {},
   "outputs": [
    {
     "data": {
      "text/plain": [
       "USD    2107\n",
       "EUR     200\n",
       "GBP     144\n",
       "INR      59\n",
       "CAD      25\n",
       "AUD       9\n",
       "SGD       6\n",
       "BRL       6\n",
       "PLN       5\n",
       "CHF       4\n",
       "HUF       3\n",
       "DKK       3\n",
       "JPY       3\n",
       "TRY       3\n",
       "THB       2\n",
       "ILS       1\n",
       "HKD       1\n",
       "CZK       1\n",
       "MXN       1\n",
       "CLP       1\n",
       "Name: salary_currency, dtype: int64"
      ]
     },
     "execution_count": 97,
     "metadata": {},
     "output_type": "execute_result"
    }
   ],
   "source": [
    "df['salary_currency'].value_counts()"
   ]
  },
  {
   "cell_type": "code",
   "execution_count": 98,
   "metadata": {},
   "outputs": [
    {
     "data": {
      "text/plain": [
       "US    1893\n",
       "GB     150\n",
       "CA      81\n",
       "IN      70\n",
       "ES      47\n",
       "      ... \n",
       "BA       1\n",
       "AM       1\n",
       "CY       1\n",
       "KW       1\n",
       "MT       1\n",
       "Name: employee_residence, Length: 78, dtype: int64"
      ]
     },
     "execution_count": 98,
     "metadata": {},
     "output_type": "execute_result"
    }
   ],
   "source": [
    "df['employee_residence'].value_counts()"
   ]
  },
  {
   "cell_type": "code",
   "execution_count": 99,
   "metadata": {},
   "outputs": [
    {
     "data": {
      "text/plain": [
       "US    1929\n",
       "GB     155\n",
       "CA      83\n",
       "IN      57\n",
       "DE      55\n",
       "      ... \n",
       "MK       1\n",
       "BS       1\n",
       "IR       1\n",
       "CR       1\n",
       "MT       1\n",
       "Name: company_location, Length: 72, dtype: int64"
      ]
     },
     "execution_count": 99,
     "metadata": {},
     "output_type": "execute_result"
    }
   ],
   "source": [
    "df['company_location'].value_counts()"
   ]
  },
  {
   "cell_type": "code",
   "execution_count": 100,
   "metadata": {},
   "outputs": [
    {
     "data": {
      "text/plain": [
       "M    2028\n",
       "L     409\n",
       "S     147\n",
       "Name: company_size, dtype: int64"
      ]
     },
     "execution_count": 100,
     "metadata": {},
     "output_type": "execute_result"
    }
   ],
   "source": [
    "# Diccionario de datos: M: Medium, L: Large, S: Small\n",
    "df['company_size'].value_counts()"
   ]
  },
  {
   "cell_type": "code",
   "execution_count": 101,
   "metadata": {},
   "outputs": [],
   "source": [
    "# Se hacen los mapeos de las variables correspondientes\n",
    "labelEncoder = pp.LabelEncoder()\n",
    "\n",
    "# Se separa en un dfPred para ver el tema de MachineLearning y se dejan los valores originales en df para hacer un análisis de datos.\n",
    "dfPred = df.copy()\n",
    "\n",
    "# Se dropean columnas irrelevantes para la predicción\n",
    "dfPred.drop('work_year', axis = 1, inplace = True)\n",
    "dfPred.drop('salary_currency', axis = 1, inplace = True)\n",
    "dfPred.drop('employee_residence', axis = 1, inplace = True)\n",
    "\n",
    "dfPred['experience_level'] = labelEncoder.fit_transform(dfPred['experience_level'])\n",
    "dfPred['employment_type'] = labelEncoder.fit_transform(dfPred['employment_type'])\n",
    "dfPred['job_title'] = labelEncoder.fit_transform(dfPred['job_title'])   \n",
    "#dfPred['employee_residence'] = labelEncoder.fit_transform(dfPred['employee_residence'])\n",
    "dfPred['company_location'] = labelEncoder.fit_transform(dfPred['employment_type'])\n",
    "dfPred['company_size'] = labelEncoder.fit_transform(dfPred['employment_type'])"
   ]
  },
  {
   "cell_type": "code",
   "execution_count": 102,
   "metadata": {},
   "outputs": [
    {
     "name": "stdout",
     "output_type": "stream",
     "text": [
      "<class 'pandas.core.frame.DataFrame'>\n",
      "Int64Index: 2584 entries, 0 to 3754\n",
      "Data columns (total 8 columns):\n",
      " #   Column            Non-Null Count  Dtype\n",
      "---  ------            --------------  -----\n",
      " 0   experience_level  2584 non-null   int32\n",
      " 1   employment_type   2584 non-null   int32\n",
      " 2   job_title         2584 non-null   int32\n",
      " 3   salary            2584 non-null   int64\n",
      " 4   salary_in_usd     2584 non-null   int64\n",
      " 5   remote_ratio      2584 non-null   int64\n",
      " 6   company_location  2584 non-null   int64\n",
      " 7   company_size      2584 non-null   int64\n",
      "dtypes: int32(3), int64(5)\n",
      "memory usage: 151.4 KB\n"
     ]
    }
   ],
   "source": [
    "# Ahora con todas las columnas transformadas, se puede hacer un modelo de predicción\n",
    "dfPred.info()\n"
   ]
  },
  {
   "cell_type": "code",
   "execution_count": 103,
   "metadata": {},
   "outputs": [
    {
     "name": "stdout",
     "output_type": "stream",
     "text": [
      "Index(['employment_type', 'company_size', 'company_location'], dtype='object')\n"
     ]
    }
   ],
   "source": [
    "# Se procede a ver los principales predictores mediante RFE.\n",
    "estimador = LinearRegression()\n",
    "\n",
    "# Se cambia la variable objetivo (salario), al final del dataframe para obtenerla de manera más fácil.\n",
    "columnas = dfPred.columns.tolist()\n",
    "posSalary = columnas.index('salary')\n",
    "columnas[posSalary], columnas[-1] = columnas[-1], columnas[posSalary]\n",
    "dfPred = dfPred[columnas]\n",
    "\n",
    "# Se crea el RFE y se aplica al dataset para ver las variables mejores predictoras.\n",
    "rfe = RFE(estimator = estimador, n_features_to_select = 3)\n",
    "X = dfPred.iloc[:,:-1]\n",
    "y = dfPred.iloc[:,-1]\n",
    "\n",
    "# Se aplica RFE\n",
    "rfe.fit_transform(X,y)\n",
    "predictores = rfe.support_\n",
    "rankingPredictores = rfe.ranking_\n",
    "predictoresPos = []\n",
    "i = 0\n",
    "\n",
    "while i < len(predictores):\n",
    "    if predictores[i] == True:\n",
    "        predictoresPos.append(i)\n",
    "    i += 1\n",
    "        \n",
    "predictoresSeleccionados = dfPred.columns[predictoresPos]\n",
    "print(predictoresSeleccionados)\n",
    "\n",
    "# Se eliminan las columnas que no corresponden a los predictores seleccionados.\n",
    "\n",
    "# Se deja un df con todas las variables para ver la diferencia de solo con los predictores y todas las variables.\n",
    "dfPredTodasLasVariables = dfPred.copy()\n",
    "columnasDelete = list(set(dfPred.columns) - set(predictoresSeleccionados))\n",
    "\n",
    "# Se deja la variable target\n",
    "columnasDelete.remove('salary')\n",
    "\n",
    "dfPred.drop(columnasDelete, axis = 1, inplace = True)\n",
    "# En base a esto se pueden ver cuáles son las variables que más influyen en el salario de las personas y así descartar algunas que no tienen peso alguno en la predicción.\n"
   ]
  },
  {
   "cell_type": "code",
   "execution_count": 104,
   "metadata": {},
   "outputs": [],
   "source": [
    "# Van todas las variables para predecir si se tiene diabetes o no\n",
    "x1 = dfPred.iloc[:,:-1].values\n",
    "x2 = dfPredTodasLasVariables.iloc[:,:-1].values\n",
    "# Target\n",
    "y1 = dfPred.iloc[:,-1].values\n",
    "y2 = dfPredTodasLasVariables.iloc[:,-1].values\n",
    "\n",
    "# Se separan los datos en 80% para entrenamiento y 20% para evaluación\n",
    "x_train, x_test, y_train, y_test = train_test_split(x1, y1, train_size=0.8, random_state=42)\n",
    "x_train1, x_test1, y_train1, y_test1 = train_test_split(x2, y2, train_size=0.8, random_state=42)\n",
    "\n",
    "# Se realiza el featuring scaling para normalizar los datos\n",
    "norm = pp.StandardScaler()\n",
    "x_train = norm.fit_transform(x_train)\n",
    "x_test = norm.transform(x_test)\n",
    "\n",
    "x_train1 = norm.fit_transform(x_train1)\n",
    "x_test1 = norm.transform(x_test1)"
   ]
  },
  {
   "cell_type": "code",
   "execution_count": 105,
   "metadata": {},
   "outputs": [
    {
     "name": "stdout",
     "output_type": "stream",
     "text": [
      "0.009671179883945842\n"
     ]
    }
   ],
   "source": [
    "# Se crea un modelo para estimar el salario de las personas con todas las variables del dataset.\n",
    "# Random Forest Classifier\n",
    "from sklearn.ensemble import RandomForestClassifier\n",
    "forest = RandomForestClassifier(n_estimators = 10, criterion = 'entropy', random_state = 0)\n",
    "forest.fit(x_train, y_train)\n",
    "y_pred = forest.predict(x_test)\n",
    "print(accuracy_score(y_test, y_pred))"
   ]
  },
  {
   "cell_type": "code",
   "execution_count": 106,
   "metadata": {},
   "outputs": [
    {
     "name": "stdout",
     "output_type": "stream",
     "text": [
      "0.23597678916827852\n"
     ]
    }
   ],
   "source": [
    "forest1 = RandomForestClassifier(n_estimators = 10, criterion = 'entropy', random_state = 0)\n",
    "forest1.fit(x_train1, y_train1)\n",
    "y_pred1 = forest1.predict(x_test1)\n",
    "print(accuracy_score(y_test1, y_pred1))"
   ]
  },
  {
   "cell_type": "code",
   "execution_count": 107,
   "metadata": {},
   "outputs": [
    {
     "name": "stdout",
     "output_type": "stream",
     "text": [
      "0.0019342359767891683\n"
     ]
    }
   ],
   "source": [
    "# Se revisan algunos métodos predictivos\n",
    "# KNeighborsClassifier (KNN)\n",
    "from sklearn.neighbors import KNeighborsClassifier\n",
    "knn = KNeighborsClassifier(n_neighbors = 10)\n",
    "knn.fit(x_train, y_train)\n",
    "y_pred = knn.predict(x_test)\n",
    "print(accuracy_score(y_test, y_pred))"
   ]
  },
  {
   "cell_type": "code",
   "execution_count": 108,
   "metadata": {},
   "outputs": [
    {
     "name": "stdout",
     "output_type": "stream",
     "text": [
      "0.02321083172147002\n"
     ]
    }
   ],
   "source": [
    "# SVM Lineal (Linear SVM)\n",
    "from sklearn.svm import SVC\n",
    "svm = SVC(kernel = 'linear')\n",
    "svm.fit(x_train, y_train)\n",
    "y_pred = svm.predict(x_test)\n",
    "print(accuracy_score(y_test, y_pred))"
   ]
  },
  {
   "cell_type": "code",
   "execution_count": 109,
   "metadata": {},
   "outputs": [
    {
     "name": "stdout",
     "output_type": "stream",
     "text": [
      "0.02321083172147002\n"
     ]
    }
   ],
   "source": [
    "# Árbol de clasificación (DecisionTreeClassifier)\n",
    "from sklearn.tree import DecisionTreeClassifier\n",
    "tree = DecisionTreeClassifier()\n",
    "tree.fit(x_train, y_train)\n",
    "y_pred = tree.predict(x_test)\n",
    "print(accuracy_score(y_test, y_pred))"
   ]
  },
  {
   "cell_type": "code",
   "execution_count": 110,
   "metadata": {},
   "outputs": [
    {
     "name": "stdout",
     "output_type": "stream",
     "text": [
      "0.632495164410058\n"
     ]
    }
   ],
   "source": [
    "# Árbol de clasificación (DecisionTreeClassifier)\n",
    "# Con los predictores seleccionados se ve mucho mayor porcentaje de predicción para el árbol (Se puede deber a la poca cantidad de datos)\n",
    "tree1 = DecisionTreeClassifier()\n",
    "tree1.fit(x_train1, y_train1)\n",
    "y_pred = tree1.predict(x_test1)\n",
    "print(accuracy_score(y_test1, y_pred))"
   ]
  }
 ],
 "metadata": {
  "kernelspec": {
   "display_name": "Python 3",
   "language": "python",
   "name": "python3"
  },
  "language_info": {
   "codemirror_mode": {
    "name": "ipython",
    "version": 3
   },
   "file_extension": ".py",
   "mimetype": "text/x-python",
   "name": "python",
   "nbconvert_exporter": "python",
   "pygments_lexer": "ipython3",
   "version": "3.9.13"
  },
  "orig_nbformat": 4
 },
 "nbformat": 4,
 "nbformat_minor": 2
}
